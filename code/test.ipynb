{
 "cells": [
  {
   "cell_type": "markdown",
   "metadata": {},
   "source": [
    "### Colab Setup"
   ]
  },
  {
   "cell_type": "code",
   "execution_count": 3,
   "metadata": {},
   "outputs": [],
   "source": [
    "try:\n",
    "  from google.colab import drive\n",
    "  IN_COLAB=True\n",
    "except:\n",
    "  IN_COLAB=False\n",
    "\n",
    "if IN_COLAB:\n",
    "  print(\"We're running Colab\")\n",
    "\n",
    "if IN_COLAB:\n",
    "  # Mount the Google Drive at mount\n",
    "  mount='/content/drive'\n",
    "  print(\"Colab: mounting Google drive on \", mount)\n",
    "\n",
    "  drive.mount(mount)\n",
    "\n",
    "  # Switch to the directory on the Google Drive that you want to use\n",
    "  import os\n",
    "  drive_root = mount + \"/My Drive/Colab Notebooks/Project23\"\n",
    "  \n",
    "  # Create drive_root if it doesn't exist\n",
    "  create_drive_root = True\n",
    "  if create_drive_root:\n",
    "    print(\"\\nColab: making sure \", drive_root, \" exists.\")\n",
    "    os.makedirs(drive_root, exist_ok=True)\n",
    "  \n",
    "  # Change to the directory\n",
    "  print(\"\\nColab: Changing directory to \", drive_root)\n",
    "  %cd $drive_root\n",
    "  !pwd\n",
    "  !pip install -r requirements.txt\n",
    "\n",
    "  from IPython.display import JSON\n",
    "  from google.colab import output\n",
    "  from subprocess import getoutput\n",
    "  import os\n",
    "  \n",
    "  #@title jQuery Terminal's [Features](https://terminal.jcubic.pl/)\n",
    "\n",
    "  def shell(command):\n",
    "    if command.startswith('cd'):\n",
    "      path = command.strip().split(maxsplit=1)[1]\n",
    "      os.chdir(path)\n",
    "      return JSON([''])\n",
    "    return JSON([getoutput(command)])\n",
    "  output.register_callback('shell', shell)"
   ]
  },
  {
   "attachments": {},
   "cell_type": "markdown",
   "metadata": {},
   "source": [
    "## Import Tensorflow Libraries"
   ]
  },
  {
   "cell_type": "code",
   "execution_count": 4,
   "metadata": {},
   "outputs": [],
   "source": [
    "# %%\n",
    "from __future__ import absolute_import\n",
    "from __future__ import division\n",
    "from __future__ import print_function\n",
    "\n",
    "import gc\n",
    "import memory_profiler\n",
    "import numpy\n",
    "# import cupy as np\n",
    "import matplotlib.pyplot as plt\n",
    "from matplotlib import style\n",
    "#style.use('classic')\n",
    "import PIL\n",
    "import scipy\n",
    "import more_itertools\n",
    "import pandas as pd # data processing, CSV file I/O (e.g. pd.read_csv)\n",
    "import sys\n",
    "import cv2 \n",
    "import glob\n",
    "import os\n",
    "import time\n",
    "from numpy import genfromtxt, asarray, savez_compressed, load\n",
    "from sklearn.model_selection import train_test_split\n",
    "from PIL import Image \n",
    "from io import StringIO\n"
   ]
  },
  {
   "attachments": {},
   "cell_type": "markdown",
   "metadata": {},
   "source": [
    "Inapkdgma\n"
   ]
  },
  {
   "cell_type": "code",
   "execution_count": 5,
   "metadata": {},
   "outputs": [],
   "source": [
    "import tensorflow as tf\n",
    "import tensorflow.keras.backend as K\n",
    "import tensorflow_addons as tfa\n",
    "from tensorflow.keras import layers\n",
    "from tensorflow import keras\n",
    "from tensorflow.keras.layers import *\n",
    "from tensorflow.keras.models import Sequential, load_model, Model\n",
    "\n",
    "try:\n",
    "  IN_COLAB = True\n",
    "  from google.colab import drive\n",
    "  from tensorflow.keras.optimizers.legacy import RMSprop,Adam,SGD,Adadelta,Adagrad,Adamax\n",
    "except:\n",
    "  IN_COLAB = False\n",
    "  from tensorflow.keras.optimizers import RMSprop,Adam,SGD,Adadelta,Adagrad,Adamax\n",
    "\n",
    "from tensorflow.keras.optimizers.legacy import RMSprop,Adam,SGD,Adadelta,Adagrad,Adamax\n",
    "from tensorflow.keras.callbacks import EarlyStopping, ModelCheckpoint, TensorBoard, ReduceLROnPlateau\n",
    "from tensorflow.compat.v1.keras.backend import set_session\n",
    "from tensorflow.keras.utils import plot_model, to_categorical, normalize\n",
    "from tensorflow.python.ops.numpy_ops import np_config\n",
    "np_config.enable_numpy_behavior()"
   ]
  },
  {
   "attachments": {},
   "cell_type": "markdown",
   "metadata": {},
   "source": [
    "### Check for available GPUs and configure Tensorflow session to utilize GPU"
   ]
  },
  {
   "cell_type": "code",
   "execution_count": 6,
   "metadata": {},
   "outputs": [
    {
     "name": "stdout",
     "output_type": "stream",
     "text": [
      "Found GPU at: /device:GPU:0\n",
      "[name: \"/device:CPU:0\"\n",
      "device_type: \"CPU\"\n",
      "memory_limit: 268435456\n",
      "locality {\n",
      "}\n",
      "incarnation: 16923097111553654001\n",
      "xla_global_id: -1\n",
      ", name: \"/device:GPU:0\"\n",
      "device_type: \"GPU\"\n",
      "memory_limit: 4841275392\n",
      "locality {\n",
      "  bus_id: 1\n",
      "  links {\n",
      "  }\n",
      "}\n",
      "incarnation: 7069230853908044233\n",
      "physical_device_desc: \"device: 0, name: NVIDIA GeForce GTX 1060 with Max-Q Design, pci bus id: 0000:01:00.0, compute capability: 6.1\"\n",
      "xla_global_id: 416903419\n",
      "]\n",
      "1 Physical GPUs, 1 Logical GPU\n"
     ]
    }
   ],
   "source": [
    "try:\n",
    "  # tf.debugging.experimental.enable_dump_debug_info('.', tensor_debug_mode=\"FULL_HEALTH\", circular_buffer_size=-1)\n",
    "  # tf.debugging.set_log_device_placement(True)\n",
    "  from tensorflow.python.client import device_lib\n",
    "\n",
    "  device_name = tf.test.gpu_device_name()\n",
    "  if device_name != '/device:GPU:0':\n",
    "    raise SystemError('GPU device not found')\n",
    "  print('Found GPU at: {}'.format(device_name))\n",
    "\n",
    "  config = tf.compat.v1.ConfigProto()\n",
    "  config.gpu_options.allow_growth = True\n",
    "  config.gpu_options.per_process_gpu_memory_fraction = 0.1\n",
    "  sess = tf.compat.v1.InteractiveSession(config=config)\n",
    "  set_session(sess)\n",
    "  print(device_lib.list_local_devices())\n",
    "  gpus = tf.config.experimental.list_physical_devices('GPU')\n",
    "  for gpu in gpus:\n",
    "    try:\n",
    "    \n",
    "      tf.config.experimental.set_memory_growth(gpu, True)\n",
    "      # Restrict TensorFlow to only use the first GPU\n",
    "      tf.config.set_visible_devices(gpus[0], 'GPU')\n",
    "      logical_gpus = tf.config.list_logical_devices('GPU')\n",
    "      print(len(gpus), \"Physical GPUs,\", len(logical_gpus), \"Logical GPU\")\n",
    "    except RuntimeError as e:\n",
    "      # Visible devices must be set before GPUs have been initialized\n",
    "      print(e)\n",
    "\n",
    "except Exception as error:\n",
    "    print(\"Error trying to configure computing device.\")\n",
    "    print(error)"
   ]
  },
  {
   "cell_type": "code",
   "execution_count": 7,
   "metadata": {},
   "outputs": [],
   "source": [
    "if IN_COLAB:\n",
    "  DATASET_FOLDER = './data/dataset1/'\n",
    "  DATA_FOLDER = './data/'\n",
    "else:\n",
    "  DATASET_FOLDER = './../data/dataset1/'\n",
    "  DATA_FOLDER = './../data/'\n",
    "\n",
    "INPUT_DATA = 'Image_Input'\n",
    "OUTPUT_DATA = 'Image_Output'\n"
   ]
  },
  {
   "cell_type": "code",
   "execution_count": 8,
   "metadata": {},
   "outputs": [
    {
     "data": {
      "text/plain": [
       "23"
      ]
     },
     "execution_count": 8,
     "metadata": {},
     "output_type": "execute_result"
    }
   ],
   "source": [
    "input_image_path = os.path.join(DATASET_FOLDER, INPUT_DATA)\n",
    "input_filepaths=glob.glob(os.path.join(input_image_path, f'*.jpg'))\n",
    "len(input_filepaths)"
   ]
  },
  {
   "cell_type": "code",
   "execution_count": 9,
   "metadata": {},
   "outputs": [
    {
     "data": {
      "text/plain": [
       "23"
      ]
     },
     "execution_count": 9,
     "metadata": {},
     "output_type": "execute_result"
    }
   ],
   "source": [
    "output_image_path = os.path.join(DATASET_FOLDER, OUTPUT_DATA)\n",
    "output_filepaths=glob.glob(os.path.join(input_image_path, f'*.jpg'))\n",
    "len(output_filepaths)\n"
   ]
  },
  {
   "cell_type": "code",
   "execution_count": 10,
   "metadata": {},
   "outputs": [],
   "source": [
    "import cupy as cp"
   ]
  },
  {
   "cell_type": "code",
   "execution_count": 13,
   "metadata": {},
   "outputs": [
    {
     "name": "stdout",
     "output_type": "stream",
     "text": [
      "image size: 1645056\n",
      "image size: 1762560\n",
      "image size: 1628928\n",
      "image size: 2133504\n",
      "image size: 1767168\n",
      "image size: 1760256\n",
      "image size: 1960704\n",
      "image size: 2221056\n",
      "image size: 1767168\n",
      "image size: 3213000\n",
      "image size: 1760256\n",
      "image size: 1769472\n",
      "image size: 1815552\n",
      "image size: 2012160\n",
      "image size: 2064384\n",
      "image size: 2045952\n",
      "image size: 1900800\n",
      "image size: 1610496\n",
      "image size: 1631232\n",
      "image size: 1976400\n",
      "image size: 2138400\n",
      "image size: 2419200\n",
      "image size: 1956864\n"
     ]
    }
   ],
   "source": [
    "input_im_data = []\n",
    "SIZE=0\n",
    "for image_file in input_filepaths:\n",
    "    # image = Image.open(image_file)\n",
    "    image = cv2.imread (image_file)\n",
    "    image = cv2.cvtColor(image, cv2.COLOR_BGR2RGB)\n",
    "    image = image.reshape(image.shape[0],image.shape[1],image.shape[2])\n",
    "    size = image.size\n",
    "    SIZE = size if size>SIZE else SIZE\n",
    "    print(f'image size: {image.size}')\n",
    "    # plt.imshow(image)\n",
    "    # plt.show()\n",
    "    # if image.shape != (173, 267, 3):\n",
    "    #     print(myFile)\n",
    "    #     plt.imshow(image)\n",
    "    #     plt.show()\n",
    "    #     print(image.shape)\n",
    "    #     #os.remove(myFile)\n",
    "    #     prepData()\n",
    "    #     break\n",
    "    input_im_data.append(cp.asnumpy(image))\n",
    "#print(count)\n",
    "\n",
    "\n",
    "    "
   ]
  },
  {
   "cell_type": "code",
   "execution_count": 14,
   "metadata": {},
   "outputs": [
    {
     "data": {
      "text/plain": [
       "3213000"
      ]
     },
     "execution_count": 14,
     "metadata": {},
     "output_type": "execute_result"
    }
   ],
   "source": [
    "SIZE"
   ]
  },
  {
   "cell_type": "code",
   "execution_count": null,
   "metadata": {},
   "outputs": [],
   "source": [
    "# raise Exception(f'Wrong file count: Expected 3 files but got {flen} {file}. Please rectify')\n",
    "           \n",
    "\n",
    "            \n",
    "           for myFile in files:\n",
    "                #print(myFile)\n",
    "                image=Image.open(myFile)\n",
    "                image = cv2.imread (myFile)\n",
    "                image = cv2.cvtColor(image, cv2.COLOR_BGR2RGB)\n",
    "                image = image.reshape(image.shape[0],image.shape[1],image.shape[2])\n",
    "                #plt.imshow(image)\n",
    "                #plt.show()\n",
    "                if image.shape != (173, 267, 3):\n",
    "                    print(myFile)\n",
    "                    plt.imshow(image)\n",
    "                    plt.show()\n",
    "                    print(image.shape)\n",
    "                    #os.remove(myFile)\n",
    "                    prepData()\n",
    "                    break\n",
    "                im_data.append(np.asnumpy(image))\n",
    "                proceed = True\n",
    "            #print(count)\n",
    "    "
   ]
  }
 ],
 "metadata": {
  "kernelspec": {
   "display_name": "Python 3",
   "language": "python",
   "name": "python3"
  },
  "language_info": {
   "codemirror_mode": {
    "name": "ipython",
    "version": 3
   },
   "file_extension": ".py",
   "mimetype": "text/x-python",
   "name": "python",
   "nbconvert_exporter": "python",
   "pygments_lexer": "ipython3",
   "version": "3.10.9"
  },
  "orig_nbformat": 4,
  "vscode": {
   "interpreter": {
    "hash": "26de051ba29f2982a8de78e945f0abaf191376122a1563185a90213a26c5da77"
   }
  }
 },
 "nbformat": 4,
 "nbformat_minor": 2
}
