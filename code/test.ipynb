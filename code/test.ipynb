{
 "cells": [
  {
   "cell_type": "code",
   "execution_count": 1,
   "metadata": {},
   "outputs": [
    {
     "ename": "ModuleNotFoundError",
     "evalue": "No module named 'matplotlib'",
     "output_type": "error",
     "traceback": [
      "\u001b[1;31m---------------------------------------------------------------------------\u001b[0m",
      "\u001b[1;31mModuleNotFoundError\u001b[0m                       Traceback (most recent call last)",
      "Cell \u001b[1;32mIn[1], line 10\u001b[0m\n\u001b[0;32m      8\u001b[0m \u001b[39mimport\u001b[39;00m \u001b[39mnumpy\u001b[39;00m\n\u001b[0;32m      9\u001b[0m \u001b[39m# import cupy as np\u001b[39;00m\n\u001b[1;32m---> 10\u001b[0m \u001b[39mimport\u001b[39;00m \u001b[39mmatplotlib\u001b[39;00m\u001b[39m.\u001b[39;00m\u001b[39mpyplot\u001b[39;00m \u001b[39mas\u001b[39;00m \u001b[39mplt\u001b[39;00m\n\u001b[0;32m     11\u001b[0m \u001b[39mfrom\u001b[39;00m \u001b[39mmatplotlib\u001b[39;00m \u001b[39mimport\u001b[39;00m style\n\u001b[0;32m     12\u001b[0m \u001b[39m#style.use('classic')\u001b[39;00m\n",
      "\u001b[1;31mModuleNotFoundError\u001b[0m: No module named 'matplotlib'"
     ]
    }
   ],
   "source": [
    "# %%\n",
    "from __future__ import absolute_import\n",
    "from __future__ import division\n",
    "from __future__ import print_function\n",
    "\n",
    "import gc\n",
    "import memory_profiler\n",
    "import numpy\n",
    "# import cupy as np\n",
    "import matplotlib.pyplot as plt\n",
    "from matplotlib import style\n",
    "#style.use('classic')\n",
    "import PIL\n",
    "import scipy\n",
    "import more_itertools\n",
    "import pandas as pd # data processing, CSV file I/O (e.g. pd.read_csv)\n",
    "import sys\n",
    "import cv2 \n",
    "import glob\n",
    "import os\n",
    "import time\n",
    "from numpy import genfromtxt, asarray, savez_compressed, load\n",
    "from sklearn.model_selection import train_test_split\n",
    "from PIL import Image \n",
    "from io import StringIO"
   ]
  },
  {
   "attachments": {},
   "cell_type": "markdown",
   "metadata": {},
   "source": [
    "## Import Tensorflow Libraries"
   ]
  },
  {
   "cell_type": "code",
   "execution_count": null,
   "metadata": {},
   "outputs": [
    {
     "name": "stdout",
     "output_type": "stream",
     "text": [
      "Found GPU at: /device:GPU:0\n",
      "[name: \"/device:CPU:0\"\n",
      "device_type: \"CPU\"\n",
      "memory_limit: 268435456\n",
      "locality {\n",
      "}\n",
      "incarnation: 2673883699199238801\n",
      "xla_global_id: -1\n",
      ", name: \"/device:GPU:0\"\n",
      "device_type: \"GPU\"\n",
      "memory_limit: 4841275392\n",
      "locality {\n",
      "  bus_id: 1\n",
      "  links {\n",
      "  }\n",
      "}\n",
      "incarnation: 17970183833834411098\n",
      "physical_device_desc: \"device: 0, name: NVIDIA GeForce GTX 1060 with Max-Q Design, pci bus id: 0000:01:00.0, compute capability: 6.1\"\n",
      "xla_global_id: 416903419\n",
      "]\n",
      "1 Physical GPUs, 1 Logical GPU\n"
     ]
    }
   ],
   "source": [
    "import tensorflow as tf\n",
    "import tensorflow.keras.backend as K\n",
    "import tensorflow_addons as tfa\n",
    "from tensorflow.keras import layers\n",
    "from tensorflow import keras\n",
    "from tensorflow.keras.layers import *\n",
    "from tensorflow.keras.models import Sequential, load_model, Model\n",
    "\n",
    "try:\n",
    "  IN_COLAB = True\n",
    "  from google.colab import drive\n",
    "  from tensorflow.keras.optimizers.legacy import RMSprop,Adam,SGD,Adadelta,Adagrad,Adamax\n",
    "except:\n",
    "  IN_COLAB = False\n",
    "  from tensorflow.keras.optimizers import RMSprop,Adam,SGD,Adadelta,Adagrad,Adamax\n",
    "\n",
    "from tensorflow.keras.optimizers.legacy import RMSprop,Adam,SGD,Adadelta,Adagrad,Adamax\n",
    "from tensorflow.keras.callbacks import EarlyStopping, ModelCheckpoint, TensorBoard, ReduceLROnPlateau\n",
    "from tensorflow.compat.v1.keras.backend import set_session\n",
    "from tensorflow.keras.utils import plot_model, to_categorical, normalize\n",
    "from tensorflow.python.ops.numpy_ops import np_config\n",
    "np_config.enable_numpy_behavior()\n",
    "\n"
   ]
  },
  {
   "attachments": {},
   "cell_type": "markdown",
   "metadata": {},
   "source": [
    "### Check for available GPUs and configure Tensorflow session to utilize GPU"
   ]
  },
  {
   "cell_type": "code",
   "execution_count": null,
   "metadata": {},
   "outputs": [],
   "source": [
    "\n",
    "try:\n",
    "  # tf.debugging.experimental.enable_dump_debug_info('.', tensor_debug_mode=\"FULL_HEALTH\", circular_buffer_size=-1)\n",
    "  # tf.debugging.set_log_device_placement(True)\n",
    "  from tensorflow.python.client import device_lib\n",
    "\n",
    "  device_name = tf.test.gpu_device_name()\n",
    "  if device_name != '/device:GPU:0':\n",
    "    raise SystemError('GPU device not found')\n",
    "  print('Found GPU at: {}'.format(device_name))\n",
    "\n",
    "  config = tf.compat.v1.ConfigProto()\n",
    "  config.gpu_options.allow_growth = True\n",
    "  config.gpu_options.per_process_gpu_memory_fraction = 0.1\n",
    "  sess = tf.compat.v1.InteractiveSession(config=config)\n",
    "  set_session(sess)\n",
    "  print(device_lib.list_local_devices())\n",
    "  gpus = tf.config.experimental.list_physical_devices('GPU')\n",
    "  for gpu in gpus:\n",
    "    try:\n",
    "    \n",
    "      tf.config.experimental.set_memory_growth(gpu, True)\n",
    "      # Restrict TensorFlow to only use the first GPU\n",
    "      tf.config.set_visible_devices(gpus[0], 'GPU')\n",
    "      logical_gpus = tf.config.list_logical_devices('GPU')\n",
    "      print(len(gpus), \"Physical GPUs,\", len(logical_gpus), \"Logical GPU\")\n",
    "    except RuntimeError as e:\n",
    "      # Visible devices must be set before GPUs have been initialized\n",
    "      print(e)\n",
    "\n",
    "except Exception as error:\n",
    "    print(\"Error trying to configure computing device.\")\n",
    "    print(error)"
   ]
  },
  {
   "cell_type": "code",
   "execution_count": null,
   "metadata": {},
   "outputs": [],
   "source": [
    "if IN_COLAB:\n",
    "  DATASET_FOLDER = './data/dataset1/'\n",
    "  DATA_FOLDER = './data/'\n",
    "else:\n",
    "  DATASET_FOLDER = './../data/dataset1/'\n",
    "  DATA_FOLDER = './../data/'\n",
    "\n",
    "INPUT_DATA = 'Image_Input'\n",
    "OUTPUT_DATA = 'Image_Output'\n"
   ]
  },
  {
   "cell_type": "code",
   "execution_count": null,
   "metadata": {},
   "outputs": [],
   "source": [
    "files=glob.glob(str(image_path + (f'*{param_type}{short}*.png')))\n",
    "        flen = len(files)\n",
    "        \n",
    "        if flen != 3:\n",
    "            for file in files:\n",
    "                #os.remove(file)\n",
    "                raise Exception(f'Wrong file count: Expected 3 files but got {flen} {file}. Please rectify')\n",
    "           \n",
    "\n",
    "            \n",
    "        if i%2 is 1:\n",
    "            for myFile in files:\n",
    "                #print(myFile)\n",
    "                image=Image.open(myFile)\n",
    "                image = cv2.imread (myFile)\n",
    "                image = cv2.cvtColor(image, cv2.COLOR_BGR2RGB)\n",
    "                image = image.reshape(image.shape[0],image.shape[1],image.shape[2])\n",
    "                #plt.imshow(image)\n",
    "                #plt.show()\n",
    "                if image.shape != (173, 267, 3):\n",
    "                    print(myFile)\n",
    "                    plt.imshow(image)\n",
    "                    plt.show()\n",
    "                    print(image.shape)\n",
    "                    #os.remove(myFile)\n",
    "                    prepData()\n",
    "                    break\n",
    "                im_data.append(np.asnumpy(image))\n",
    "                proceed = True\n",
    "            #print(count)\n",
    "    "
   ]
  }
 ],
 "metadata": {
  "kernelspec": {
   "display_name": "Python 3",
   "language": "python",
   "name": "python3"
  },
  "language_info": {
   "codemirror_mode": {
    "name": "ipython",
    "version": 3
   },
   "file_extension": ".py",
   "mimetype": "text/x-python",
   "name": "python",
   "nbconvert_exporter": "python",
   "pygments_lexer": "ipython3",
   "version": "3.10.9"
  },
  "orig_nbformat": 4,
  "vscode": {
   "interpreter": {
    "hash": "26de051ba29f2982a8de78e945f0abaf191376122a1563185a90213a26c5da77"
   }
  }
 },
 "nbformat": 4,
 "nbformat_minor": 2
}
